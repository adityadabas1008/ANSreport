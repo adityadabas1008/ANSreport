{
 "cells": [
  {
   "cell_type": "markdown",
   "metadata": {},
   "source": [
    "# \n",
    "\n",
    "# Literaturverzeichnis\n",
    "\n",
    "\\[@FILTERS07\\]"
   ],
   "id": "77265f01-15b5-426b-82ff-a575f8a9d5b0"
  }
 ],
 "nbformat": 4,
 "nbformat_minor": 5,
 "metadata": {}
}
