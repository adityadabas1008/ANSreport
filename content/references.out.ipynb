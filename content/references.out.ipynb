{
 "cells": [
  {
   "cell_type": "markdown",
   "metadata": {},
   "source": [
    "# \n",
    "\n",
    "# Literaturverzeichnis\n",
    "\n",
    "\\[@FILTERS07\\]"
   ],
   "id": "54e1b2c1-99f0-43c6-b9c3-33cb01b45401"
  }
 ],
 "nbformat": 4,
 "nbformat_minor": 5,
 "metadata": {}
}
